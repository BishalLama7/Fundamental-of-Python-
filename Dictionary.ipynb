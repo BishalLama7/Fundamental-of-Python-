{
 "cells": [
  {
   "cell_type": "code",
   "execution_count": 1,
   "id": "5a1aa131-7d9e-4698-8414-2f569160c08a",
   "metadata": {},
   "outputs": [
    {
     "name": "stdout",
     "output_type": "stream",
     "text": [
      "{'apple': 'red', 'banana': 'yellow', 'cherry': 'red', 'date': 'brown', 'mango': 'green', 'kiwi': 'black'}\n"
     ]
    }
   ],
   "source": [
    "# Create a dictionary of your favorite fruits and their colors.\n",
    "\n",
    "fruits = {\n",
    "    \"apple\":\"red\",\n",
    "    \"banana\":\"yellow\",\n",
    "    \"cherry\":\"red\",\n",
    "    \"date\":\"brown\",\n",
    "    \"mango\":\"green\",\n",
    "    \"kiwi\":\"black\"}\n",
    "print(fruits)"
   ]
  },
  {
   "cell_type": "code",
   "execution_count": 3,
   "id": "fefab64d-b262-462e-8ebd-30090ab1cff8",
   "metadata": {},
   "outputs": [
    {
     "name": "stdout",
     "output_type": "stream",
     "text": [
      "yellow\n"
     ]
    }
   ],
   "source": [
    "# Access: Access the color of 'banana'.\n",
    "\n",
    "print(fruits[\"banana\"])"
   ]
  },
  {
   "cell_type": "code",
   "execution_count": 5,
   "id": "7ee41473-08e3-44a8-baea-715e69ebdafd",
   "metadata": {},
   "outputs": [
    {
     "name": "stdout",
     "output_type": "stream",
     "text": [
      "{'apple': 'red', 'banana': 'yellow', 'cherry': 'pink', 'date': 'brown', 'mango': 'green', 'kiwi': 'black'}\n"
     ]
    }
   ],
   "source": [
    "# Update the color of \"cherry\" and print the updated dictionary.\n",
    "\n",
    "fruits[\"cherry\"] = \"pink\"\n",
    "print(fruits)"
   ]
  },
  {
   "cell_type": "code",
   "execution_count": 7,
   "id": "9c34c819-291e-4fef-a880-7f04038095a3",
   "metadata": {},
   "outputs": [
    {
     "name": "stdout",
     "output_type": "stream",
     "text": [
      "{'apple': 'red', 'banana': 'yellow', 'cherry': 'pink', 'mango': 'green', 'kiwi': 'black'}\n"
     ]
    }
   ],
   "source": [
    "# Remove \"date\" from your dictionary and print the updated dictionary using pop method\n",
    "\n",
    "fruits.pop(\"date\")\n",
    "print(fruits)"
   ]
  },
  {
   "cell_type": "code",
   "execution_count": 11,
   "id": "5f204629-0e35-45f1-be07-233e954fb6d2",
   "metadata": {},
   "outputs": [
    {
     "name": "stdout",
     "output_type": "stream",
     "text": [
      "['red', 'yellow', 'pink', 'green', 'black']\n"
     ]
    }
   ],
   "source": [
    "# Print the list of all values in your dictionary\n",
    "\n",
    "\n",
    "valuedata = list(fruits.values())\n",
    "print(valuedata)"
   ]
  },
  {
   "cell_type": "code",
   "execution_count": 13,
   "id": "885cd304-4357-4671-836c-6c173d6a3a36",
   "metadata": {},
   "outputs": [
    {
     "name": "stdout",
     "output_type": "stream",
     "text": [
      "['apple', 'banana', 'cherry', 'mango', 'kiwi']\n"
     ]
    }
   ],
   "source": [
    "# Print the list of all keys in your dictionary.\n",
    "\n",
    "keydata = list(fruits.keys())\n",
    "print(keydata)"
   ]
  },
  {
   "cell_type": "code",
   "execution_count": 15,
   "id": "5df8e18b-3fdf-4c11-abed-6b1ee33b25b7",
   "metadata": {},
   "outputs": [
    {
     "name": "stdout",
     "output_type": "stream",
     "text": [
      "[('apple', 'red'), ('banana', 'yellow'), ('cherry', 'pink'), ('mango', 'green'), ('kiwi', 'black')]\n"
     ]
    }
   ],
   "source": [
    "# Print the list of all key-value pairs in your dictionary\n",
    "\n",
    "\n",
    "data = list(fruits.items())\n",
    "print(data)\n"
   ]
  },
  {
   "cell_type": "code",
   "execution_count": 17,
   "id": "0794e30c-5ded-4eb5-bf9a-2085e3dac637",
   "metadata": {},
   "outputs": [
    {
     "name": "stdout",
     "output_type": "stream",
     "text": [
      "red\n"
     ]
    }
   ],
   "source": [
    "# Print the color of \"apple\" using the `get` method.\n",
    "\n",
    "print(fruits.get(\"apple\"))"
   ]
  },
  {
   "cell_type": "code",
   "execution_count": 19,
   "id": "a858edf2-dd8e-4ffe-b9d9-d009cc168824",
   "metadata": {},
   "outputs": [
    {
     "name": "stdout",
     "output_type": "stream",
     "text": [
      "{'apple': 'red', 'banana': 'yellow', 'cherry': 'pink', 'mango': 'green', 'kiwi': 'black', 'grape': 'green'}\n"
     ]
    }
   ],
   "source": [
    "# Update your dictionary with the new key-value pairs and print the updated dictionary.\n",
    "\n",
    "fruits[\"grape\"] = \"green\"\n",
    "print(fruits)"
   ]
  },
  {
   "cell_type": "code",
   "execution_count": null,
   "id": "8d816558-2c94-4663-a8ad-71a895085973",
   "metadata": {},
   "outputs": [],
   "source": []
  }
 ],
 "metadata": {
  "kernelspec": {
   "display_name": "Python 3 (ipykernel)",
   "language": "python",
   "name": "python3"
  },
  "language_info": {
   "codemirror_mode": {
    "name": "ipython",
    "version": 3
   },
   "file_extension": ".py",
   "mimetype": "text/x-python",
   "name": "python",
   "nbconvert_exporter": "python",
   "pygments_lexer": "ipython3",
   "version": "3.12.4"
  }
 },
 "nbformat": 4,
 "nbformat_minor": 5
}
